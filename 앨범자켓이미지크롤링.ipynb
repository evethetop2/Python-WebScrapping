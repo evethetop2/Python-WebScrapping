{
 "cells": [
  {
   "cell_type": "code",
   "execution_count": 1,
   "metadata": {},
   "outputs": [],
   "source": [
    "import requests\n",
    "from bs4 import BeautifulSoup\n",
    "import datetime \n",
    "\n",
    "\n",
    "headers= {\"User-Agent\": \"Mozilla/5.0 (Windows NT 10.0; Win64; x64) AppleWebKit/537.36 (KHTML, like Gecko) Chrome/98.0.4758.82 Safari/537.36\"}\n",
    "\n"
   ]
  },
  {
   "cell_type": "code",
   "execution_count": 4,
   "metadata": {},
   "outputs": [
    {
     "name": "stdout",
     "output_type": "stream",
     "text": [
      "https://image.genie.co.kr/Y/IMAGE/IMG_ALBUM/082/459/471/82459471_1640758992549_1_600x600.JPG/dims/resize/Q_80,0\n",
      "https://image.genie.co.kr/Y/IMAGE/IMG_ALBUM/081/867/444/81867444_1616662460652_1_600x600.JPG/dims/resize/Q_80,0\n",
      "https://image.genie.co.kr/Y/IMAGE/IMG_ALBUM/082/341/788/82341788_1634542366123_1_600x600.JPG/dims/resize/Q_80,0\n",
      "https://image.genie.co.kr/Y/IMAGE/IMG_ALBUM/081/297/613/81297613_1574066356132_1_600x600.JPG/dims/resize/Q_80,0\n",
      "https://image.genie.co.kr/Y/IMAGE/IMG_ALBUM/080/218/361/80218361_1378798829373_1_600x600.JPG/dims/resize/Q_80,0\n",
      "https://image.genie.co.kr/Y/IMAGE/IMG_ALBUM/080/257/897/80257897_1306206125910_1_600x600.JPG/dims/resize/Q_80,0\n",
      "https://image.genie.co.kr/Y/IMAGE/IMG_ALBUM/080/941/594/80941594_1492760375708_1_600x600.JPG/dims/resize/Q_80,0\n",
      "https://image.genie.co.kr/Y/IMAGE/IMG_ALBUM/081/434/107/81434107_1588747979387_1_600x600.JPG/dims/resize/Q_80,0\n",
      "https://image.genie.co.kr/Y/IMAGE/IMG_ALBUM/080/933/154/80933154_1490341401069_1_600x600.JPG/dims/resize/Q_80,0\n",
      "https://image.genie.co.kr/Y/IMAGE/IMG_ALBUM/081/361/796/81361796_1581668981776_1_600x600.JPG/dims/resize/Q_80,0\n",
      "https://image.genie.co.kr/Y/IMAGE/IMG_ALBUM/080/724/877/80724877_1445520704274_1_600x600.JPG/dims/resize/Q_80,0\n",
      "https://image.genie.co.kr/Y/IMAGE/IMG_ALBUM/080/988/086/80988086_1506069858539_1_600x600.JPG/dims/resize/Q_80,0\n",
      "https://image.genie.co.kr/Y/IMAGE/IMG_ALBUM/080/433/346/80433346_1400146949453_1_600x600.JPG/dims/resize/Q_80,0\n",
      "https://image.genie.co.kr/Y/IMAGE/IMG_ALBUM/080/388/410/80388410_1387504181560_1_600x600.JPG/dims/resize/Q_80,0\n",
      "https://image.genie.co.kr/Y/IMAGE/IMG_ALBUM/080/293/178/80293178_1336660657682_1_600x600.JPG/dims/resize/Q_80,0\n",
      "https://image.genie.co.kr/Y/IMAGE/IMG_ALBUM/080/275/543/80275543_1322528812203_1_600x600.JPG/dims/resize/Q_80,0\n",
      "https://image.genie.co.kr/Y/IMAGE/IMG_ALBUM/080/937/602/80937602_1491549385019_1_600x600.JPG/dims/resize/Q_80,0\n",
      "https://image.genie.co.kr/Y/IMAGE/IMG_ALBUM/081/111/535/81111535_1539157728291_1_600x600.JPG/dims/resize/Q_80,0\n",
      "https://image.genie.co.kr/Y/IMAGE/IMG_ALBUM/080/145/713/80145713_1466478583614_1_600x600.JPG/dims/resize/Q_80,0\n",
      "https://image.genie.co.kr/Y/IMAGE/IMG_ALBUM/080/374/606/80374606_1381140216465_1_600x600.JPG/dims/resize/Q_80,0\n",
      "https://image.genie.co.kr/Y/IMAGE/IMG_ALBUM/080/229/000/80229000_1_600x600.JPG/dims/resize/Q_80,0\n",
      "https://image.genie.co.kr/Y/IMAGE/IMG_ALBUM/081/328/336/81328336_1575877636339_1_600x600.JPG/dims/resize/Q_80,0\n",
      "https://image.genie.co.kr/Y/IMAGE/IMG_ALBUM/081/479/858/81479858_1592548814111_1_600x600.JPG/dims/resize/Q_80,0\n",
      "https://image.genie.co.kr/Y/IMAGE/IMG_ALBUM/080/582/038/80582038_1431870013639_1_600x600.JPG/dims/resize/Q_80,0\n",
      "https://image.genie.co.kr/Y/IMAGE/IMG_ALBUM/080/246/521/80246521_1_600x600.JPG/dims/resize/Q_80,0\n",
      "https://image.genie.co.kr/Y/IMAGE/IMG_ALBUM/080/418/052/80418052_1396921630195_1_600x600.JPG/dims/resize/Q_80,0\n",
      "https://image.genie.co.kr/Y/IMAGE/IMG_ALBUM/077/262/787/77262787_1443664556160_1_600x600.JPG/dims/resize/Q_80,0\n",
      "https://image.genie.co.kr/Y/IMAGE/IMG_ALBUM/082/498/375/82498375_1643257659412_1_600x600.JPG/dims/resize/Q_80,0\n",
      "https://image.genie.co.kr/Y/IMAGE/IMG_ALBUM/080/188/062/80188062_1_600x600.JPG/dims/resize/Q_80,0\n",
      "https://image.genie.co.kr/Y/IMAGE/IMG_ALBUM/080/445/660/80445660_1404092976877_1_600x600.JPG/dims/resize/Q_80,0\n",
      "https://image.genie.co.kr/Y/IMAGE/IMG_ALBUM/067/873/037/67873037_1443666645677_1_600x600.JPG/dims/resize/Q_80,0\n",
      "https://image.genie.co.kr/Y/IMAGE/IMG_ALBUM/080/012/313/80012313_1400576190596_1_600x600.JPG/dims/resize/Q_80,0\n",
      "https://image.genie.co.kr/Y/IMAGE/IMG_ALBUM/080/260/296/80260296_1308547805331_1_600x600.JPG/dims/resize/Q_80,0\n",
      "https://image.genie.co.kr/Y/IMAGE/IMG_ALBUM/080/051/253/80051253_1388645775658_1_600x600.JPG/dims/resize/Q_80,0\n",
      "https://image.genie.co.kr/Y/IMAGE/IMG_ALBUM/080/466/858/80466858_1412172639047_1_600x600.JPG/dims/resize/Q_80,0\n",
      "https://image.genie.co.kr/Y/IMAGE/IMG_ALBUM/080/162/449/80162449_1_600x600.JPG/dims/resize/Q_80,0\n",
      "https://image.genie.co.kr/Y/IMAGE/IMG_ALBUM/080/166/140/80166140_1_600x600.JPG/dims/resize/Q_80,0\n",
      "https://image.genie.co.kr/Y/IMAGE/IMG_ALBUM/080/082/193/80082193_1380274431272_1_600x600.JPG/dims/resize/Q_80,0\n",
      "https://image.genie.co.kr/Y/IMAGE/IMG_ALBUM/082/433/926/82433926_1639361514636_1_600x600.JPG/dims/resize/Q_80,0\n",
      "https://image.genie.co.kr/Y/IMAGE/IMG_ALBUM/080/257/136/80257136_1305276412368_1_600x600.JPG/dims/resize/Q_80,0\n"
     ]
    }
   ],
   "source": [
    "for page in range(1,3):\n",
    "    url = \"https://www.genie.co.kr/search/searchAlbum?query=%25EC%2595%2584%25EC%259D%25B4%25EC%259C%25A0&page={}&pagesize=20&of=POPULAR&fscount=&Genre=&Country=%EA%B5%AD%EB%82%B4&reQuery=&researchyn=N\".format(page)\n",
    "    res = requests.get(url,headers=headers)\n",
    "    res.raise_for_status()\n",
    "    soup = BeautifulSoup(res.text, \"lxml\")\n",
    "    images = soup.find_all(\"img\", attrs={\"onerror\":\"this.src='//image.genie.co.kr/imageg/web/common/blank_115.gif';\"})\n",
    "   \n",
    "    \n",
    "    for idx, image in enumerate(images):\n",
    "            \n",
    "        # print(image[\"src\"])\n",
    "        image_url = image[\"src\"]\n",
    "        if image_url.startswith(\"//\"):\n",
    "            image_url = \"https:\" + image_url\n",
    "            \n",
    "        print(image_url)\n",
    "        image_res = requests.get(image_url)\n",
    "        image_res.raise_for_status\n",
    "        \n",
    "        with open(\"image_{}_{}.jpg\".format(page,idx+1), \"wb\") as f:\n",
    "            f.write(image_res.content)"
   ]
  }
 ],
 "metadata": {
  "interpreter": {
   "hash": "38a95ca867a304d1e839eecde23c4dbfddcb603619762f1a4216bc79b9353052"
  },
  "kernelspec": {
   "display_name": "Python 3.8.8 ('base')",
   "language": "python",
   "name": "python3"
  },
  "language_info": {
   "codemirror_mode": {
    "name": "ipython",
    "version": 3
   },
   "file_extension": ".py",
   "mimetype": "text/x-python",
   "name": "python",
   "nbconvert_exporter": "python",
   "pygments_lexer": "ipython3",
   "version": "3.8.8"
  },
  "orig_nbformat": 4
 },
 "nbformat": 4,
 "nbformat_minor": 2
}
